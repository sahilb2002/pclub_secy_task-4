{
 "cells": [
  {
   "cell_type": "markdown",
   "source": [
    "# TASK-5 Mookit Scraping\n",
    "**I have used selenium and BeautifulSoup libraries to complete the task**"
   ],
   "metadata": {}
  },
  {
   "cell_type": "code",
   "execution_count": 12,
   "source": [
    "from selenium import webdriver\n",
    "from selenium.webdriver.common.keys import Keys\n",
    "from selenium.webdriver.support.ui import Select,WebDriverWait\n",
    "from selenium.webdriver.chrome.options import Options\n",
    "from bs4 import BeautifulSoup    \n",
    "import urllib3 \n",
    "import requests\n",
    "import getpass\n",
    "import pandas as pd"
   ],
   "outputs": [],
   "metadata": {}
  },
  {
   "cell_type": "markdown",
   "source": [
    "## Login to mookit\n",
    "And preparing beutifulsoup objects for scraping"
   ],
   "metadata": {}
  },
  {
   "cell_type": "code",
   "execution_count": 13,
   "source": [
    "usrn = input(\"Enter your username for mookit:\")\n",
    "passw = getpass.getpass(prompt=\"Please enter your password:\")\n",
    "url_to_course = input(\"Enter url to course which you want to look at\")\n",
    "url_to_course = url_to_course.replace(\"/course\",\"\")"
   ],
   "outputs": [],
   "metadata": {}
  },
  {
   "cell_type": "code",
   "execution_count": 14,
   "source": [
    "options = Options()\n",
    "options.add_argument('--headless')\n",
    "driver = webdriver.Chrome(options=options)\n",
    "driver.get('https://hello.iitk.ac.in/index.php/user/login')\n",
    "username = driver.find_element_by_id(\"edit-name\")\n",
    "password = driver.find_element_by_id(\"edit-pass\")\n",
    "username.send_keys(usrn)\n",
    "password.send_keys(passw)\n",
    "driver.find_element_by_id(\"edit-submit\").click()\n",
    "driver.get(url_to_course+\"/#/home\")"
   ],
   "outputs": [],
   "metadata": {}
  },
  {
   "cell_type": "code",
   "execution_count": 15,
   "source": [
    "source = driver.page_source\n",
    "soup = BeautifulSoup(source,'html.parser')"
   ],
   "outputs": [],
   "metadata": {}
  },
  {
   "cell_type": "markdown",
   "source": [
    "## Pulling Week information"
   ],
   "metadata": {}
  },
  {
   "cell_type": "code",
   "execution_count": 16,
   "source": [
    "weeks = []\n",
    "data = soup.findAll('div',{\"class\":\"weekWrapper\"})\n",
    "for dat in data:\n",
    "    weeks.append(dat.get_text(strip=True))\n",
    "print(weeks)"
   ],
   "outputs": [
    {
     "output_type": "stream",
     "name": "stdout",
     "text": [
      "['Week 1', 'Week 2', 'Week 3']\n"
     ]
    }
   ],
   "metadata": {}
  },
  {
   "cell_type": "code",
   "execution_count": 17,
   "source": [
    "weeklist = soup.findAll('ul',{\"class\":\"weekList\"})"
   ],
   "outputs": [],
   "metadata": {}
  },
  {
   "cell_type": "code",
   "execution_count": 18,
   "source": [
    "lecture_list_items = []\n",
    "for week_lec in weeklist:\n",
    "    # print(str(week_lec))\n",
    "    lecs = BeautifulSoup(str(week_lec),'html.parser')\n",
    "    lis = lecs.findAll('li')\n",
    "    print(len(lis))\n",
    "    lecture_list_items.append(lis)"
   ],
   "outputs": [
    {
     "output_type": "stream",
     "name": "stdout",
     "text": [
      "2\n",
      "2\n",
      "1\n"
     ]
    }
   ],
   "metadata": {}
  },
  {
   "cell_type": "code",
   "execution_count": 19,
   "source": [
    "def remove_spaces(string):\n",
    "    s = ' '.join(string.split())\n",
    "    return s"
   ],
   "outputs": [],
   "metadata": {}
  },
  {
   "cell_type": "markdown",
   "source": [
    "## Finally pulling all info about lectures\n",
    "**I have pulled lec name, link to lecture, and links to attachements here**"
   ],
   "metadata": {}
  },
  {
   "cell_type": "code",
   "execution_count": 20,
   "source": [
    "all_lecs_info = []\n",
    "for a_week in lecture_list_items:\n",
    "    weekly_lecs = []\n",
    "    for one_item in a_week:\n",
    "        lecs_details = []\n",
    "        one_item = BeautifulSoup(str(one_item),'html.parser')\n",
    "\n",
    "        title = one_item.find(\"span\",{\"class\":\"weekListItemTitle\"})\n",
    "        title = remove_spaces(title.text)\n",
    "        lecs_details.append(title[1:])\n",
    "\n",
    "        lecs_name = one_item.findAll(\"div\",{\"class\":\"lectureInfoBoxText\"})\n",
    "        lec_names = []\n",
    "        for ln in lecs_name:\n",
    "            lec_names.append(remove_spaces(ln.text))\n",
    "        lecs_details.append(lec_names)\n",
    "\n",
    "        lecs_length = one_item.findAll(\"div\",{\"class\":\"lectureInfoBoxLength\"})\n",
    "        lec_lenghts = []\n",
    "        for ln in lecs_length:\n",
    "            lec_lenghts.append(ln.text)\n",
    "        lecs_details.append(lec_lenghts)\n",
    "\n",
    "        lecs_link = one_item.find_all('a',{\"_ngcontent-c2\":\"\"},href=True)\n",
    "        lec_links = []\n",
    "        for ln in lecs_link:\n",
    "            lec_links.append(ln['href'])\n",
    "        lecs_details.append(lec_links)\n",
    "        # now lecs_details has 4 items: title, a list containing name of lectures, a list containing corresponding lengths, a list containing links to lectures\n",
    "        weekly_lecs.append(lecs_details)\n",
    "\n",
    "    all_lecs_info.append(weekly_lecs)\n",
    "# print(all_lecs_info) \n",
    "\n",
    "    "
   ],
   "outputs": [],
   "metadata": {}
  },
  {
   "cell_type": "markdown",
   "source": [
    "## Coverting data to pandas dataframe and saving submission"
   ],
   "metadata": {}
  },
  {
   "cell_type": "code",
   "execution_count": 21,
   "source": [
    "c = [\"Week\",'heading','Name','lecture duration','link to lecture','link to attachements']\n",
    "df = pd.DataFrame(columns=c)\n",
    "for i,week in enumerate(all_lecs_info):\n",
    "    weeknum = weeks[i]\n",
    "    for head in week:\n",
    "        heading = head[0]\n",
    "        n = len(head[1])\n",
    "        k = 0\n",
    "        for i in range(n):\n",
    "            lec_name = head[1][i]\n",
    "            lec_dur = head[2][i]\n",
    "\n",
    "            n_links = len(head[3])\n",
    "            while k<n_links and head[3][k][2:6]==\"inst\":\n",
    "                k+=1\n",
    "            \n",
    "            lec_link = url_to_course + \"/\" + head[3][k]\n",
    "            lec_attach = \"\"\n",
    "            k+=1\n",
    "            j=0\n",
    "            while k<n_links and head[3][k][0:4]==\"http\":\n",
    "                if j==0:\n",
    "                    lec_attach = lec_attach + head[3][k]\n",
    "                    j=1\n",
    "                else:\n",
    "                    lec_attach = lec_attach + \"\\n\" + head[3][k]\n",
    "                k+=1\n",
    "            df = df.append({c[0]:weeknum,c[1]:heading,c[2]:lec_name,c[3]:lec_dur,c[4]:lec_link,c[5]:lec_attach},ignore_index=True)\n",
    "print(df)"
   ],
   "outputs": [
    {
     "output_type": "stream",
     "name": "stdout",
     "text": [
      "     Week               heading       Name lecture duration  \\\n",
      "0  Week 1          Introduction  Lecture 1            00:00   \n",
      "1  Week 1  Preparing an outline  Lecture 2            00:00   \n",
      "2  Week 2             Reading 1  Lecture 3            00:00   \n",
      "3  Week 2             Reading 2  Lecture 4            00:00   \n",
      "4  Week 3           Note Making  Lecture 5            00:00   \n",
      "5  Week 3           Note Making  Lecture 6            00:00   \n",
      "\n",
      "                                  link to lecture link to attachements  \n",
      "0   https://hello.iitk.ac.in/com20021/#/lecture/5                       \n",
      "1   https://hello.iitk.ac.in/com20021/#/lecture/6                       \n",
      "2  https://hello.iitk.ac.in/com20021/#/lecture/12                       \n",
      "3  https://hello.iitk.ac.in/com20021/#/lecture/13                       \n",
      "4  https://hello.iitk.ac.in/com20021/#/lecture/66                       \n",
      "5  https://hello.iitk.ac.in/com20021/#/lecture/67                       \n"
     ]
    }
   ],
   "metadata": {}
  },
  {
   "cell_type": "code",
   "execution_count": 22,
   "source": [
    "num_lecs = int(input(\"How many Last Lectures you are interested in? Total lectures are \"+str(len(df.axes[0]))))\n",
    "last_df = df.tail(num_lecs)\n",
    "last_df.to_csv('lectures.csv',index=False)"
   ],
   "outputs": [],
   "metadata": {}
  }
 ],
 "metadata": {
  "orig_nbformat": 4,
  "language_info": {
   "name": "python",
   "version": "3.8.10",
   "mimetype": "text/x-python",
   "codemirror_mode": {
    "name": "ipython",
    "version": 3
   },
   "pygments_lexer": "ipython3",
   "nbconvert_exporter": "python",
   "file_extension": ".py"
  },
  "kernelspec": {
   "name": "python3",
   "display_name": "Python 3.8.10 64-bit"
  },
  "interpreter": {
   "hash": "31f2aee4e71d21fbe5cf8b01ff0e069b9275f58929596ceb00d14d90e3e16cd6"
  }
 },
 "nbformat": 4,
 "nbformat_minor": 2
}